{
 "cells": [
  {
   "cell_type": "markdown",
   "metadata": {},
   "source": [
    "# Pre Course Assignment for TSDS\n",
    "\n",
    "This assignment consist of 8 questions and must be handed in\n",
    "before the beginning of the TSDS lectures. The reason we give\n",
    "you an assignment so early in the course is to ensure you have\n",
    "all installed python, and are confident using it to the level\n",
    "you are taught in the summer course SDS. If you haven't already\n",
    "installed the anaconda python distribution on your system,\n",
    "a simple google search should get you there.\n",
    "\n",
    "\n",
    "### Practical info\n",
    "* Handin no later than XXXX\n",
    "* Feel free to colaborate, but upload one notebook per student.\n",
    "\n",
    "### Code validation\n",
    "These questions have a build-in validator that will tell you\n",
    "if your answers are correct. To use it you need to install a package\n",
    "called `checks` from here:\n",
    "[https://github.com/Kristianuruplarsen/checks](https://github.com/Kristianuruplarsen/checks)\n",
    "\n",
    "To install the package simply run the following in your terminal:\n",
    "```\n",
    "pip install git+https://github.com/Kristianuruplarsen/checks\n",
    "```\n",
    "After doing this you should be able to simply run\n",
    "```\n",
    "from checks import PreCourseAssignment\n",
    "```\n",
    "after which you can decorate your answers in the following way to\n",
    "get instant validation of your answers:\n",
    "```\n",
    "PreCourseAssignment.submit(problem = 1)\n",
    "def add(x,y):\n",
    "# ... Code here\n",
    "```\n",
    "For a more thorough introduction to the `checks` package refer to the git repo."
   ]
  },
  {
   "cell_type": "code",
   "execution_count": null,
   "metadata": {},
   "outputs": [],
   "source": [
    "from checks import PreCourseAssignment"
   ]
  },
  {
   "cell_type": "markdown",
   "metadata": {},
   "source": [
    "# Problem 1\n",
    "Write a function that adds two numbers x,y and returns the output x + y.\n",
    "Sample input might be `x=-1`, `y=8` in which case the expected output is `7`.\n",
    "The expected output is either float or int."
   ]
  },
  {
   "cell_type": "code",
   "execution_count": null,
   "metadata": {},
   "outputs": [],
   "source": [
    "# [Answer to problem 1 here]"
   ]
  },
  {
   "cell_type": "markdown",
   "metadata": {},
   "source": [
    "# Problem 2\n",
    "Write a function that takes as it's single input\n",
    "* Any dictionary\n",
    "\n",
    "The function should return the keys of the input dictionary, in a `list`.\n",
    "\n",
    "> *Hint:* be aware that many of the build in dictionary methods returns special\n",
    "containers that look like lists, but are in fact not. If you need to you can\n",
    "convert your result to a list using the `list()` buildin function."
   ]
  },
  {
   "cell_type": "code",
   "execution_count": null,
   "metadata": {},
   "outputs": [],
   "source": [
    "# [Answer to problem 2 here]"
   ]
  },
  {
   "cell_type": "markdown",
   "metadata": {},
   "source": [
    "# Problem 3\n",
    "Write a function that takes as it's single input\n",
    "* Any dictionary\n",
    "\n",
    "The function should return the values of the input dictionary, in a `list`.\n",
    "\n",
    "> *Hint:* be aware that many of the build in dictionary methods returns special\n",
    "containers that look like lists, but are in fact not. If you need to you can\n",
    "convert your result to a list using the `list()` buildin function."
   ]
  },
  {
   "cell_type": "code",
   "execution_count": null,
   "metadata": {},
   "outputs": [],
   "source": [
    "# [Answer to problem 3 here]"
   ]
  },
  {
   "cell_type": "markdown",
   "metadata": {},
   "source": [
    "# Problem 4\n",
    "Write a function that takes a list as input and returns the *reversed* list.\n",
    "For example given a list `l=['s', 'd', 's', 't']` the expected output is `['t', 's', 'd', 's']`"
   ]
  },
  {
   "cell_type": "code",
   "execution_count": null,
   "metadata": {},
   "outputs": [],
   "source": [
    "# [Answer to problem 4 here]"
   ]
  },
  {
   "cell_type": "markdown",
   "metadata": {},
   "source": [
    "# Problem 5\n",
    "Write a function that takes as input\n",
    "* A string `s`\n",
    "\n",
    "The functions should use a regex to look up any digits (0-9) in the string\n",
    "and returns a new string containing a comma-separated list of digits. For\n",
    "example the input string `'Pick no.1, no.2 or no.3 please'` should return\n",
    "the string '1,2,3'.\n",
    "\n",
    "> *Hint:* take a look at the `re` module."
   ]
  },
  {
   "cell_type": "code",
   "execution_count": null,
   "metadata": {},
   "outputs": [],
   "source": [
    "# [Answer to problem 5 here]"
   ]
  },
  {
   "cell_type": "markdown",
   "metadata": {},
   "source": [
    "# Problem 6\n",
    "Write a function that takes the following arguments:\n",
    "* An unknown number of lists, each containing floats representing the values of a variable.\n",
    "* A list of strings, containing the column names for a table.\n",
    "\n",
    "For example, the function might be given a list of column names `key=['ID','year', 'age', 'income_index']\n",
    "and _four_ other lists: [1,1,1,2,2,2], [22,23,24,32,33,34], [2000,2001,2002,2000,2001,2002], [100,110,130,100,98,74]\n",
    "\n",
    "From these inputs the function should return a pandas DataFrame like\n",
    "\n",
    "| 'ID' | 'year' | 'age' | 'income_index' |\n",
    "|------|--------|-------|----------------|\n",
    "|   1  | 2000   | 22    |   100          |\n",
    "|   1  | 2001   | 23    |   110          |\n",
    "|   1  | 2001   | 24    |   130          |\n",
    "|   2  | 2000   | 32    |   100          |\n",
    "|   2  | 2001   | 33    |   98           |\n",
    "|   2  | 2001   | 44    |   74           |\n",
    "\n",
    "> *Hint:* you will need to understand the `*input` notation for variable length arguments."
   ]
  },
  {
   "cell_type": "code",
   "execution_count": null,
   "metadata": {},
   "outputs": [],
   "source": [
    "# [Answer to problem 6 here]"
   ]
  },
  {
   "cell_type": "markdown",
   "metadata": {},
   "source": [
    "# Problem 7\n",
    "For this question you should write a function which takes two\n",
    "numpy arrays as inputs, uses scikit learn's LinearRegression module to\n",
    "estimate a model of the data, and return the coefficients as a numpy array. For example\n",
    "you should make sure your function runs on input like\n",
    "```\n",
    "X = np.array([1,2,3])\n",
    "y = np.array([3,2,1])\n",
    "```\n",
    "> *Hint:* we expect the output from the .coef_ attribute of the fitted\n",
    "model object.\n",
    ">\n",
    "> *Hint:* Your function will be tested with 1-dimensional X input. You might want to investigate how scikit learn handles this."
   ]
  },
  {
   "cell_type": "code",
   "execution_count": null,
   "metadata": {},
   "outputs": [],
   "source": [
    "# [Answer to problem 7 here]"
   ]
  },
  {
   "cell_type": "markdown",
   "metadata": {},
   "source": [
    "# Problem 8\n",
    "Write a function that takes the following two inputs:\n",
    "* a list `x` of length N containing floats.\n",
    "* a list `y` of length N containing floats.\n",
    "\n",
    "Given the two lists, write a function that uses matplotlib to plot a curve\n",
    "with `x` on the first axis and `y` on the 2nd axis using `plt.plot()`. Add\n",
    "on top of this a set of scatter-points with the same coordinates as the line.\n",
    "\n",
    "> *Hint:* Don't show the figure within the function body. To properly wrap\n",
    "matplotlib code in a function simply `return plt` at the end of the function. I.e.\n",
    "\n",
    "```\n",
    "def somePlot(x,y):\n",
    "# [Matplotlib code]\n",
    "plt.plot(...)\n",
    "# [/Matplotlib code]\n",
    "return plt\n",
    "```"
   ]
  },
  {
   "cell_type": "code",
   "execution_count": null,
   "metadata": {},
   "outputs": [],
   "source": [
    "# [Answer to problem 8 here]"
   ]
  }
 ],
 "metadata": {
  "kernelspec": {
   "display_name": "Python 3",
   "language": "python",
   "name": "python3"
  },
  "language_info": {
   "codemirror_mode": {
    "name": "ipython",
    "version": 3
   },
   "file_extension": ".py",
   "mimetype": "text/x-python",
   "name": "python",
   "nbconvert_exporter": "python",
   "pygments_lexer": "ipython3",
   "version": "3.6.5"
  }
 },
 "nbformat": 4,
 "nbformat_minor": 2
}
