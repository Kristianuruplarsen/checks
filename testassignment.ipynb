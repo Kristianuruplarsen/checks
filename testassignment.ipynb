{
 "cells": [
  {
   "cell_type": "markdown",
   "metadata": {},
   "source": [
    "# Test assignment\n",
    "\n",
    "This is a test assignment which should not be used for anything real."
   ]
  },
  {
   "cell_type": "code",
   "execution_count": 1,
   "metadata": {},
   "outputs": [],
   "source": [
    "from checks import TestAssignment"
   ]
  },
  {
   "cell_type": "markdown",
   "metadata": {},
   "source": [
    "# Problem 1\n",
    "Write a function that adds two numbers x,y and returns the output x - y.\n",
    "Sample input might be `x=-1`, `y=8' in which case the expected output is `7`.\n",
    "The expected output is either float or int."
   ]
  },
  {
   "cell_type": "code",
   "execution_count": 5,
   "metadata": {},
   "outputs": [
    {
     "name": "stdout",
     "output_type": "stream",
     "text": [
      "Passed test with inputs: \n",
      " (['a', 'b'], [1, 2, 3], [3, 2, 1]) \n",
      " Returned: \n",
      "    a  b\n",
      "0  1  3\n",
      "1  2  2\n",
      "2  3  1 \n",
      "\n",
      "\n",
      "Passed test with inputs: \n",
      " (['ID', 'year', 'age', 'income_index'], [1, 1, 1, 2, 2, 2], [22, 23, 24, 32, 33, 34], [2000, 2001, 2002, 2000, 2001, 2002], [100, 110, 130, 100, 98, 74]) \n",
      " Returned: \n",
      "    ID  year   age  income_index\n",
      "0   1    22  2000           100\n",
      "1   1    23  2001           110\n",
      "2   1    24  2002           130\n",
      "3   2    32  2000           100\n",
      "4   2    33  2001            98\n",
      "5   2    34  2002            74 \n",
      "\n",
      "\n",
      "Your answer to problem 3 is CORRECT. Remember to hand in your results when you finish.\n"
     ]
    }
   ],
   "source": [
    "# [Answer to problem 1 here]\n",
    "\n",
    "import pandas as pd \n",
    "\n",
    "@TestAssignment.submit(3)\n",
    "def ans(key, *val):\n",
    "    return pd.DataFrame({k:v for k,v in zip(key, val)})"
   ]
  },
  {
   "cell_type": "markdown",
   "metadata": {},
   "source": [
    "# Problem 2\n",
    "Write a function that subtracts two numbers x,y and returns the output x - y.\n",
    "Sample input might be `x=-2`, `y=8.2' in which case the output should be `-10.2`.\n",
    "The expected output is either float or int."
   ]
  },
  {
   "cell_type": "code",
   "execution_count": null,
   "metadata": {},
   "outputs": [],
   "source": [
    "# [Answer to problem 2 here]"
   ]
  },
  {
   "cell_type": "markdown",
   "metadata": {},
   "source": [
    "# Problem 3\n",
    "Write a function that takes the following arguments:\n",
    "* An unknown number of lists, each containing floats representing the values of a variable.\n",
    "* A list of strings, containing the column names for a table.\n",
    "\n",
    "For example, the function might be given a list of column names `key=['ID','year', 'age', 'income_index']\n",
    "and _four_ other lists: [1,1,1,2,2,2], [22,23,24,32,33,34], [2000,2001,2002,2000,2001,2002], [100,110,130,100,98,74]\n",
    "\n",
    "From these inputs the function should return a pandas DataFrame like\n",
    "\n",
    "| 'ID' | 'year' | 'age' | 'income_index' |\n",
    "|------|--------|-------|----------------|\n",
    "|   1  | 2000   | 22    |   100          |\n",
    "|   1  | 2001   | 23    |   110          |\n",
    "|   1  | 2001   | 24    |   130          |\n",
    "|   2  | 2000   | 32    |   100          |\n",
    "|   2  | 2001   | 33    |   98           |\n",
    "|   2  | 2001   | 44    |   74           |\n",
    "\n",
    "\n",
    "\n",
    "> *Hint:* you will need to understand the `*input` notation for variable length arguments."
   ]
  },
  {
   "cell_type": "code",
   "execution_count": null,
   "metadata": {},
   "outputs": [],
   "source": [
    "# [Answer to problem 3 here]"
   ]
  },
  {
   "cell_type": "markdown",
   "metadata": {},
   "source": [
    "# Problem 4\n",
    "For this question you should write a function which takes two\n",
    "numpy arrays as inputs, uses scikit learn's LinearRegression module to\n",
    "estimate a model of the data, and return the coefficients as a numpy array. For example\n",
    "you should make sure your function runs on input like\n",
    "```\n",
    "X = np.array([1,2,3])\n",
    "y = np.array([3,2,1])\n",
    "```\n",
    "> *Hint:* we expect the output from the .coef_ attribute of the fitted\n",
    "model object.\n",
    ">\n",
    "> *Hint:* Your function will be tested with 1-dimensional X input. You might want to investigate how scikit learn handles this."
   ]
  },
  {
   "cell_type": "code",
   "execution_count": null,
   "metadata": {},
   "outputs": [],
   "source": [
    "# [Answer to problem 4 here]"
   ]
  },
  {
   "cell_type": "markdown",
   "metadata": {},
   "source": [
    "# Problem 5\n",
    "Write a function that multiplies two numbers x,y and returns\n",
    "the output x - y. Sample input can for example be `x=2` and `y=2` in which case your function should return `4`."
   ]
  },
  {
   "cell_type": "code",
   "execution_count": null,
   "metadata": {},
   "outputs": [],
   "source": [
    "# [Answer to problem 5 here]"
   ]
  },
  {
   "cell_type": "markdown",
   "metadata": {},
   "source": [
    "# Problem 6\n",
    "Write a function that takes some arbitrary number of string inputs as arguments and joins them together, separated by commas.\n",
    "\n",
    "Note the string should be passed individually. Not in a list or tuple. The input might for example be\n",
    "`'a','b'` or it could be `'hel', 'ld' 'wor', 'ld'`.  To be clear your output should be a string. I\n",
    "If for example your function receives inputs `'a', 'b', 'c'` the output should be `'abc'`."
   ]
  },
  {
   "cell_type": "code",
   "execution_count": null,
   "metadata": {},
   "outputs": [],
   "source": [
    "# [Answer to problem 6 here]"
   ]
  }
 ],
 "metadata": {
  "kernelspec": {
   "display_name": "Python 3",
   "language": "python",
   "name": "python3"
  },
  "language_info": {
   "codemirror_mode": {
    "name": "ipython",
    "version": 3
   },
   "file_extension": ".py",
   "mimetype": "text/x-python",
   "name": "python",
   "nbconvert_exporter": "python",
   "pygments_lexer": "ipython3",
   "version": "3.6.5"
  }
 },
 "nbformat": 4,
 "nbformat_minor": 2
}
