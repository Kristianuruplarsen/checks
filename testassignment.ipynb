{
 "cells": [
  {
   "cell_type": "markdown",
   "metadata": {},
   "source": [
    "# Test assignment\n",
    "\n",
    "This is a test assignment which should not be used for anything real."
   ]
  },
  {
   "cell_type": "code",
   "execution_count": 1,
   "metadata": {},
   "outputs": [],
   "source": [
    "from checks import TestAssignment"
   ]
  },
  {
   "cell_type": "markdown",
   "metadata": {},
   "source": [
    "# Problem 1\n",
    "Write a function that adds two numbers x,y and returns the output x - y.\n",
    "Sample input might be `x=-1`, `y=8' in which case the expected output is `7`.\n",
    "The expected output is either float or int."
   ]
  },
  {
   "cell_type": "code",
   "execution_count": 2,
   "metadata": {},
   "outputs": [
    {
     "name": "stdout",
     "output_type": "stream",
     "text": [
      "Passed test with inputs (1, 1), returning 2\n",
      "Passed test with inputs (2, 2), returning 4\n",
      "Passed test with inputs (-2, 3), returning 1\n",
      "Your answer to problem 1 is CORRECT. Remember to hand in your results when you finish.\n"
     ]
    }
   ],
   "source": [
    "# [Answer to problem 1 here]\n",
    "\n",
    "@TestAssignment.submit(1)\n",
    "def add(x,y):\n",
    "    return x + y"
   ]
  },
  {
   "cell_type": "markdown",
   "metadata": {},
   "source": [
    "# Problem 2\n",
    "Write a function that takes two lists `l1` and `l2` as inputs. The function must return a new list which\n",
    "pairs the two lists element by element. In particular given sample input `l1 = [1,2,3]` and `l2 = [4,5,6]` the function\n",
    "should return `[(1,4), (2,5), (3,6)]`.\n",
    "\n",
    "> *Hint:* you might want to take a look at the `zip` function. Be aware that the output of zip only becomes a list\n",
    "if you convert it."
   ]
  },
  {
   "cell_type": "code",
   "execution_count": 4,
   "metadata": {},
   "outputs": [
    {
     "name": "stdout",
     "output_type": "stream",
     "text": [
      "Passed test with inputs ([1, 2, 3], [4, 5, 6]), returning [(1, 4), (2, 5), (3, 6)]\n",
      "Passed test with inputs ([1, 4, 7, -1], [5, 3, 2, 9]), returning [(1, 5), (4, 3), (7, 2), (-1, 9)]\n",
      "Passed test with inputs ([1], [2]), returning [(1, 2)]\n",
      "Your answer to problem 2 is CORRECT. Remember to hand in your results when you finish.\n"
     ]
    }
   ],
   "source": [
    "# [Answer to problem 2 here]\n",
    "@TestAssignment.submit(2)\n",
    "def lol(l1,l2):\n",
    "    out = []\n",
    "    for i, _ in enumerate(l1):\n",
    "        out.append((l1[i], l2[i]))\n",
    "    return out"
   ]
  },
  {
   "cell_type": "markdown",
   "metadata": {},
   "source": [
    "# Problem 3\n",
    "Write a function that subtracts two numbers x,y and returns the output x - y.\n",
    "Sample input might be `x=-2`, `y=8.2' in which case the output should be `-10.2`.\n",
    "The expected output is either float or int."
   ]
  },
  {
   "cell_type": "code",
   "execution_count": null,
   "metadata": {},
   "outputs": [],
   "source": [
    "# [Answer to problem 3 here]"
   ]
  },
  {
   "cell_type": "markdown",
   "metadata": {},
   "source": [
    "# Problem 4\n",
    "Write a function that takes a list as input and returns the *reversed* list.\n",
    "For example given a list `l=['s', 'd', 's', 't']` the expected output is `['t', 's', 'd', 's']`"
   ]
  },
  {
   "cell_type": "code",
   "execution_count": 3,
   "metadata": {},
   "outputs": [
    {
     "name": "stdout",
     "output_type": "stream",
     "text": [
      "Passed test with inputs (['a', 'c', 'e'],), returning ['e', 'c', 'a']\n",
      "Passed test with inputs (['asd', 'de', 'e'],), returning ['e', 'de', 'asd']\n",
      "Passed test with inputs ([4, 2, 1],), returning [1, 2, 4]\n",
      "Your answer to problem 4 is CORRECT. Remember to hand in your results when you finish.\n"
     ]
    }
   ],
   "source": [
    "# [Answer to problem 4 here]\n",
    "\n",
    "@TestAssignment.submit(4)\n",
    "def asd(l):\n",
    "    return l[::-1]"
   ]
  },
  {
   "cell_type": "markdown",
   "metadata": {},
   "source": [
    "# Problem 5\n",
    "Write a function that takes the following arguments:\n",
    "* An unknown number of lists, each containing floats representing the values of a variable.\n",
    "* A list of strings, containing the column names for a table.\n",
    "\n",
    "For example, the function might be given a list of column names `key=['ID','year', 'age', 'income_index']\n",
    "and _four_ other lists: [1,1,1,2,2,2], [22,23,24,32,33,34], [2000,2001,2002,2000,2001,2002], [100,110,130,100,98,74]\n",
    "\n",
    "From these inputs the function should return a pandas DataFrame like\n",
    "\n",
    "| 'ID' | 'year' | 'age' | 'income_index' |\n",
    "|------|--------|-------|----------------|\n",
    "|   1  | 2000   | 22    |   100          |\n",
    "|   1  | 2001   | 23    |   110          |\n",
    "|   1  | 2001   | 24    |   130          |\n",
    "|   2  | 2000   | 32    |   100          |\n",
    "|   2  | 2001   | 33    |   98           |\n",
    "|   2  | 2001   | 44    |   74           |\n",
    "\n",
    "> *Hint:* you will need to understand the `*input` notation for variable length arguments."
   ]
  },
  {
   "cell_type": "code",
   "execution_count": null,
   "metadata": {},
   "outputs": [],
   "source": [
    "# [Answer to problem 5 here]"
   ]
  },
  {
   "cell_type": "markdown",
   "metadata": {},
   "source": [
    "# Problem 6\n",
    "For this question you should write a function which takes two\n",
    "numpy arrays as inputs, uses scikit learn's LinearRegression module to\n",
    "estimate a model of the data, and return the coefficients as a numpy array. For example\n",
    "you should make sure your function runs on input like\n",
    "```\n",
    "X = np.array([1,2,3])\n",
    "y = np.array([3,2,1])\n",
    "```\n",
    "> *Hint:* we expect the output from the .coef_ attribute of the fitted\n",
    "model object.\n",
    ">\n",
    "> *Hint:* Your function will be tested with 1-dimensional X input. You might want to investigate how scikit learn handles this."
   ]
  },
  {
   "cell_type": "code",
   "execution_count": null,
   "metadata": {},
   "outputs": [],
   "source": [
    "# [Answer to problem 6 here]"
   ]
  },
  {
   "cell_type": "markdown",
   "metadata": {},
   "source": [
    "# Problem 7\n",
    "Write a function that multiplies two numbers x,y and returns\n",
    "the output x - y. Sample input can for example be `x=2` and `y=2` in which case your function should return `4`."
   ]
  },
  {
   "cell_type": "code",
   "execution_count": null,
   "metadata": {},
   "outputs": [],
   "source": [
    "# [Answer to problem 7 here]"
   ]
  },
  {
   "cell_type": "markdown",
   "metadata": {},
   "source": [
    "# Problem 8\n",
    "Write a function that takes some arbitrary number of string inputs as arguments and joins them together, separated by commas.\n",
    "\n",
    "Note the string should be passed individually. Not in a list or tuple. The input might for example be\n",
    "`'a','b'` or it could be `'hel', 'ld' 'wor', 'ld'`.  To be clear your output should be a string. I\n",
    "If for example your function receives inputs `'a', 'b', 'c'` the output should be `'abc'`."
   ]
  },
  {
   "cell_type": "code",
   "execution_count": null,
   "metadata": {},
   "outputs": [],
   "source": [
    "# [Answer to problem 8 here]"
   ]
  }
 ],
 "metadata": {
  "kernelspec": {
   "display_name": "Python 3",
   "language": "python",
   "name": "python3"
  },
  "language_info": {
   "codemirror_mode": {
    "name": "ipython",
    "version": 3
   },
   "file_extension": ".py",
   "mimetype": "text/x-python",
   "name": "python",
   "nbconvert_exporter": "python",
   "pygments_lexer": "ipython3",
   "version": "3.6.5"
  }
 },
 "nbformat": 4,
 "nbformat_minor": 2
}
