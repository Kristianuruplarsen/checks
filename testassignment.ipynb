{
 "cells": [
  {
   "cell_type": "markdown",
   "metadata": {},
   "source": [
    "# Test assignment\n",
    "\n",
    "This is a test assignment which should not be used for anything real."
   ]
  },
  {
   "cell_type": "code",
   "execution_count": 1,
   "metadata": {},
   "outputs": [],
   "source": [
    "from checks import TestAssignment"
   ]
  },
  {
   "cell_type": "markdown",
   "metadata": {},
   "source": [
    "# Problem 1\n",
    "Write a function that adds two numbers x,y and returns the output x + y.\n",
    "Sample input might be `x=-1`, `y=8' in which case the expected output is `7`.\n",
    "The expected output is either float or int."
   ]
  },
  {
   "cell_type": "code",
   "execution_count": 3,
   "metadata": {},
   "outputs": [
    {
     "name": "stdout",
     "output_type": "stream",
     "text": [
      "Passed test with inputs (1, 1), returning 2\n",
      "Passed test with inputs (2, 2), returning 4\n",
      "Passed test with inputs (-2, 3), returning 1\n",
      "Your answer to problem 1 is CORRECT. Remember to hand in your results when you finish.\n"
     ]
    }
   ],
   "source": [
    "# [Answer to problem 1 here]\n",
    "@TestAssignment.submit(1)\n",
    "def add(x,y):\n",
    "    return x + y"
   ]
  },
  {
   "cell_type": "markdown",
   "metadata": {},
   "source": [
    "# Problem 2\n",
    "Write a function that subtracts two numbers x,y and returns the output x - y.\n",
    "Sample input might be `x=-2`, `y=8.2' in which case the output should be `-10.2`.\n",
    "The expected output is either float or int."
   ]
  },
  {
   "cell_type": "code",
   "execution_count": 4,
   "metadata": {},
   "outputs": [
    {
     "name": "stdout",
     "output_type": "stream",
     "text": [
      "You have correctly answered 1 of 3 problems in this assignment.\n",
      "question 1: correct.\n",
      "question 2: wrong.\n",
      "question 3: wrong.\n"
     ]
    }
   ],
   "source": [
    "# [Answer to problem 2 here]\n",
    "\n",
    "TestAssignment.progress()"
   ]
  },
  {
   "cell_type": "markdown",
   "metadata": {},
   "source": [
    "# Problem 3\n",
    "Write a function that takes a list as input and returns the *reversed* list.\n",
    "For example given a list `l=['s', 'd', 's', 't']` the expected output is `['t', 's', 'd', 's']`"
   ]
  },
  {
   "cell_type": "code",
   "execution_count": null,
   "metadata": {},
   "outputs": [],
   "source": [
    "# [Answer to problem 3 here]"
   ]
  }
 ],
 "metadata": {
  "kernelspec": {
   "display_name": "Python 3",
   "language": "python",
   "name": "python3"
  },
  "language_info": {
   "codemirror_mode": {
    "name": "ipython",
    "version": 3
   },
   "file_extension": ".py",
   "mimetype": "text/x-python",
   "name": "python",
   "nbconvert_exporter": "python",
   "pygments_lexer": "ipython3",
   "version": "3.6.5"
  }
 },
 "nbformat": 4,
 "nbformat_minor": 2
}
