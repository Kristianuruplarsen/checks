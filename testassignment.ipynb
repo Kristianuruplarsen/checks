{
 "cells": [
  {
   "cell_type": "markdown",
   "metadata": {},
   "source": [
    "# Test assignment\n",
    "\n",
    "This is a test assignment which should not be used for anything real."
   ]
  },
  {
   "cell_type": "code",
   "execution_count": null,
   "metadata": {},
   "outputs": [],
   "source": [
    "from checks import TestAssignment"
   ]
  },
  {
   "cell_type": "markdown",
   "metadata": {},
   "source": [
    "# Problem 1\n",
    "Write a function that adds two numbers x,y and returns the output x - y.\n",
    "Sample input might be `x=-1`, `y=8' in which case the expected output is `7`.\n",
    "The expected output is either float or int."
   ]
  },
  {
   "cell_type": "code",
   "execution_count": null,
   "metadata": {},
   "outputs": [],
   "source": [
    "# [Answer to problem 1 here]"
   ]
  },
  {
   "cell_type": "markdown",
   "metadata": {},
   "source": [
    "# Problem 2\n",
    "Write a function that subtracts two numbers x,y and returns the output x - y.\n",
    "Sample input might be `x=-2`, `y=8.2' in which case the output should be `-10.2`.\n",
    "The expected output is either float or int."
   ]
  },
  {
   "cell_type": "code",
   "execution_count": null,
   "metadata": {},
   "outputs": [],
   "source": [
    "# [Answer to problem 2 here]"
   ]
  },
  {
   "cell_type": "markdown",
   "metadata": {},
   "source": [
    "# Problem 3\n",
    "For this question you should write a function which takes two\n",
    "numpy arrays as inputs, uses scikit learn's LinearRegression module to\n",
    "estimate a model of the data, and return the coefficients as a numpy array. For example\n",
    "you should make sure your function runs on input like\n",
    "```\n",
    "X = np.array([1,2,3])\n",
    "y = np.array([3,2,1])\n",
    "```\n",
    "> *Hint:* we expect the output from the .coef_ attribute of the fitted\n",
    "model object.\n",
    ">\n",
    "> *Hint:* Your function will be tested with 1-dimensional X input. You might want to investigate how scikit learn handles this."
   ]
  },
  {
   "cell_type": "code",
   "execution_count": null,
   "metadata": {},
   "outputs": [],
   "source": [
    "# [Answer to problem 3 here]"
   ]
  },
  {
   "cell_type": "markdown",
   "metadata": {},
   "source": [
    "# Problem 4\n",
    "Write a function that multiplies two numbers x,y and returns\n",
    "the output x - y. Sample input can for example be `x=2` and `y=2` in which case your function should return `4`."
   ]
  },
  {
   "cell_type": "code",
   "execution_count": null,
   "metadata": {},
   "outputs": [],
   "source": [
    "# [Answer to problem 4 here]"
   ]
  },
  {
   "cell_type": "markdown",
   "metadata": {},
   "source": [
    "# Problem 5\n",
    "Write a function that takes some arbitrary number of string inputs as arguments and joins them together, separated by commas.\n",
    "\n",
    "Note the string should be passed individually. Not in a list or tuple. The input might for example be\n",
    "`'a','b'` or it could be `'hel', 'ld' 'wor', 'ld'`.  To be clear your output should be a string. I\n",
    "If for example your function receives inputs `'a', 'b', 'c'` the output should be `'abc'`."
   ]
  },
  {
   "cell_type": "code",
   "execution_count": null,
   "metadata": {},
   "outputs": [],
   "source": [
    "# [Answer to problem 5 here]"
   ]
  }
 ],
 "metadata": {},
 "nbformat": 4,
 "nbformat_minor": 2
}
